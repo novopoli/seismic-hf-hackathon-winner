{
 "cells": [
  {
   "cell_type": "code",
   "execution_count": 1,
   "metadata": {
    "colab": {
     "base_uri": "https://localhost:8080/"
    },
    "executionInfo": {
     "elapsed": 4798,
     "status": "ok",
     "timestamp": 1744712894448,
     "user": {
      "displayName": "Полина Новоселя",
      "userId": "12067717600603140175"
     },
     "user_tz": -420
    },
    "id": "uRD1jarmfbBC",
    "outputId": "89ba345b-d12f-4879-e6ec-cf4c18bc989b"
   },
   "outputs": [
    {
     "name": "stdout",
     "output_type": "stream",
     "text": [
      "Mounted at /content/drive\n"
     ]
    }
   ],
   "source": [
    "from google.colab import drive\n",
    "drive.mount('/content/drive', force_remount=True)"
   ]
  },
  {
   "cell_type": "code",
   "execution_count": 2,
   "metadata": {
    "executionInfo": {
     "elapsed": 5,
     "status": "ok",
     "timestamp": 1744712894451,
     "user": {
      "displayName": "Полина Новоселя",
      "userId": "12067717600603140175"
     },
     "user_tz": -420
    },
    "id": "d6n75L3tfdhi"
   },
   "outputs": [],
   "source": [
    "import sys\n",
    "sys.path.append('/content/drive/MyDrive/Task2_v2')"
   ]
  },
  {
   "cell_type": "code",
   "execution_count": 3,
   "metadata": {
    "executionInfo": {
     "elapsed": 4692,
     "status": "ok",
     "timestamp": 1744712899139,
     "user": {
      "displayName": "Полина Новоселя",
      "userId": "12067717600603140175"
     },
     "user_tz": -420
    },
    "id": "7Bk5Ng4NfQma"
   },
   "outputs": [],
   "source": [
    "from torch.utils.data import Dataset, DataLoader, random_split\n",
    "import torch.optim as optim\n",
    "import numpy as np\n",
    "import time\n",
    "import matplotlib.pyplot as plt\n",
    "import torch\n",
    "\n",
    "from net import *\n",
    "from dataset import *\n",
    "\n",
    "import os"
   ]
  },
  {
   "cell_type": "code",
   "execution_count": 4,
   "metadata": {
    "colab": {
     "base_uri": "https://localhost:8080/",
     "height": 17
    },
    "executionInfo": {
     "elapsed": 9,
     "status": "ok",
     "timestamp": 1744712899151,
     "user": {
      "displayName": "Полина Новоселя",
      "userId": "12067717600603140175"
     },
     "user_tz": -420
    },
    "id": "i_F-AKKO2fDc",
    "outputId": "7021d441-0469-4a37-d48a-0fe1348acaea"
   },
   "outputs": [
    {
     "data": {
      "application/javascript": "google.colab.kernel.invokeFunction(\"save\")",
      "text/plain": [
       "<IPython.core.display.Javascript object>"
      ]
     },
     "metadata": {},
     "output_type": "display_data"
    }
   ],
   "source": [
    "import IPython\n",
    "IPython.display.display(IPython.display.Javascript('google.colab.kernel.invokeFunction(\"save\")'))"
   ]
  },
  {
   "cell_type": "code",
   "execution_count": null,
   "metadata": {
    "executionInfo": {
     "elapsed": 23,
     "status": "ok",
     "timestamp": 1744712899180,
     "user": {
      "displayName": "Полина Новоселя",
      "userId": "12067717600603140175"
     },
     "user_tz": -420
    },
    "id": "7hKRrE-_fdEK"
   },
   "outputs": [],
   "source": [
    "models = []\n",
    "seeds = [10, 11, 12]\n",
    "\n",
    "\n",
    "channels = ['Z','X','Y']  # все 3 канала для обучения\n",
    "train_fraction = 0.8  # доля сэмплов для обучения\n",
    "selected_sensors_num = 2016 # все сенсоры\n",
    "batch_size = 16\n",
    "epochs = 50\n",
    "learning_rate = 0.001\n",
    "num_sources_points = [0,1] # 2 точки удара для обучения\n",
    "path=r'/content/drive/MyDrive/Task2_v2/data/'\n",
    "path_to_input_batch = path+r'14m/batch_14m.hdf5'\n",
    "path_to_output_batch = path+r'9m/batch_9m.hdf5'\n",
    "path_sensors_file = path+'sensors_data.txt' # координаты сенсоров\n",
    "path_sources_file = path+'points_data.txt' # координаты точек удара"
   ]
  },
  {
   "cell_type": "code",
   "execution_count": 6,
   "metadata": {
    "executionInfo": {
     "elapsed": 5,
     "status": "ok",
     "timestamp": 1744712899187,
     "user": {
      "displayName": "Полина Новоселя",
      "userId": "12067717600603140175"
     },
     "user_tz": -420
    },
    "id": "in1x-WlzfY29"
   },
   "outputs": [],
   "source": [
    "with open(path_sensors_file) as f:\n",
    "    sensors_names = [line.split()[0] for line in f]"
   ]
  },
  {
   "cell_type": "code",
   "execution_count": 7,
   "metadata": {
    "executionInfo": {
     "elapsed": 171,
     "status": "ok",
     "timestamp": 1744712899363,
     "user": {
      "displayName": "Полина Новоселя",
      "userId": "12067717600603140175"
     },
     "user_tz": -420
    },
    "id": "ImxBKvrVgF9y"
   },
   "outputs": [],
   "source": [
    "data = MicroseismDataset(input_batch=path_to_input_batch,\n",
    "                         output_batch=path_to_output_batch,\n",
    "                         selected_sensors_names=sensors_names[:selected_sensors_num],\n",
    "                         number_sources_points = num_sources_points,\n",
    "                         sensors_names=sensors_names,\n",
    "                         channels=channels,\n",
    "                         sensors_path=path_sensors_file,\n",
    "                         points_path=path_sources_file)\n",
    "\n",
    "train_size = int(train_fraction * len(data))\n",
    "val_size = len(data) - train_size"
   ]
  },
  {
   "cell_type": "code",
   "execution_count": 8,
   "metadata": {
    "colab": {
     "base_uri": "https://localhost:8080/"
    },
    "executionInfo": {
     "elapsed": 60,
     "status": "ok",
     "timestamp": 1744712899430,
     "user": {
      "displayName": "Полина Новоселя",
      "userId": "12067717600603140175"
     },
     "user_tz": -420
    },
    "id": "5-9wV_Aiho1k",
    "outputId": "5778c5b7-e5f2-4750-b745-f741ccc75d4b"
   },
   "outputs": [
    {
     "data": {
      "text/plain": [
       "UnetWithFeatures(\n",
       "  (enc1): Conv1d(2, 16, kernel_size=(3,), stride=(1,), padding=(1,))\n",
       "  (enc2): Conv1d(16, 32, kernel_size=(3,), stride=(1,), padding=(1,))\n",
       "  (enc3): Conv1d(32, 64, kernel_size=(3,), stride=(1,), padding=(1,))\n",
       "  (dec1): Conv1d(64, 32, kernel_size=(3,), stride=(1,), padding=(1,))\n",
       "  (dec2): Conv1d(32, 16, kernel_size=(3,), stride=(1,), padding=(1,))\n",
       "  (dec3): Conv1d(16, 1, kernel_size=(3,), stride=(1,), padding=(1,))\n",
       "  (feature_conv): Conv1d(3, 64, kernel_size=(1,), stride=(1,))\n",
       "  (combine): Conv1d(128, 64, kernel_size=(1,), stride=(1,))\n",
       "  (pool): MaxPool1d(kernel_size=2, stride=2, padding=0, dilation=1, ceil_mode=False)\n",
       "  (upsample): Upsample(scale_factor=2.0, mode='nearest')\n",
       ")"
      ]
     },
     "execution_count": 8,
     "metadata": {},
     "output_type": "execute_result"
    }
   ],
   "source": [
    "device = torch.device(\"cuda\" if torch.cuda.is_available() else \"cpu\")\n",
    "\n",
    "model = UnetWithFeatures()\n",
    "model.to(device)"
   ]
  },
  {
   "cell_type": "code",
   "execution_count": 9,
   "metadata": {
    "colab": {
     "base_uri": "https://localhost:8080/"
    },
    "executionInfo": {
     "elapsed": 23411660,
     "status": "ok",
     "timestamp": 1744736311074,
     "user": {
      "displayName": "Полина Новоселя",
      "userId": "12067717600603140175"
     },
     "user_tz": -420
    },
    "id": "DLl2KfH2gJ0j",
    "outputId": "41b2128a-edf5-4382-9132-707f7b8063d6"
   },
   "outputs": [
    {
     "name": "stdout",
     "output_type": "stream",
     "text": [
      "Обучение модели с seed = 10\n",
      "[seed 10] epoch 0, train_loss 0.024096, val_loss 0.022902\n",
      "Лучшая модель сохранена\n",
      "[seed 10] epoch 1, train_loss 0.021913, val_loss 0.022036\n",
      "Лучшая модель сохранена\n",
      "[seed 10] epoch 2, train_loss 0.021192, val_loss 0.022061\n",
      "[seed 10] epoch 3, train_loss 0.020889, val_loss 0.021067\n",
      "Лучшая модель сохранена\n",
      "[seed 10] epoch 4, train_loss 0.020612, val_loss 0.020961\n",
      "Лучшая модель сохранена\n",
      "[seed 10] epoch 5, train_loss 0.020410, val_loss 0.020718\n",
      "Лучшая модель сохранена\n",
      "[seed 10] epoch 6, train_loss 0.020260, val_loss 0.020386\n",
      "Лучшая модель сохранена\n",
      "[seed 10] epoch 7, train_loss 0.020140, val_loss 0.020730\n",
      "[seed 10] epoch 8, train_loss 0.020025, val_loss 0.020560\n",
      "[seed 10] epoch 9, train_loss 0.019941, val_loss 0.020573\n",
      "[seed 10] epoch 10, train_loss 0.019884, val_loss 0.020102\n",
      "Лучшая модель сохранена\n",
      "[seed 10] epoch 11, train_loss 0.019809, val_loss 0.020222\n",
      "[seed 10] epoch 12, train_loss 0.019764, val_loss 0.020124\n",
      "[seed 10] epoch 13, train_loss 0.019717, val_loss 0.020102\n",
      "[seed 10] epoch 14, train_loss 0.019671, val_loss 0.019992\n",
      "Лучшая модель сохранена\n",
      "[seed 10] epoch 15, train_loss 0.019614, val_loss 0.019907\n",
      "Лучшая модель сохранена\n",
      "[seed 10] epoch 16, train_loss 0.019576, val_loss 0.019915\n",
      "[seed 10] epoch 17, train_loss 0.019550, val_loss 0.019938\n",
      "[seed 10] epoch 18, train_loss 0.019493, val_loss 0.020043\n",
      "[seed 10] epoch 19, train_loss 0.019474, val_loss 0.019858\n",
      "Лучшая модель сохранена\n",
      "[seed 10] epoch 20, train_loss 0.019439, val_loss 0.019691\n",
      "Лучшая модель сохранена\n",
      "[seed 10] epoch 21, train_loss 0.019396, val_loss 0.019750\n",
      "[seed 10] epoch 22, train_loss 0.019380, val_loss 0.019826\n",
      "[seed 10] epoch 23, train_loss 0.019351, val_loss 0.019645\n",
      "Лучшая модель сохранена\n",
      "[seed 10] epoch 24, train_loss 0.019326, val_loss 0.019645\n",
      "Лучшая модель сохранена\n",
      "[seed 10] epoch 25, train_loss 0.019309, val_loss 0.019613\n",
      "Лучшая модель сохранена\n",
      "[seed 10] epoch 26, train_loss 0.019297, val_loss 0.019831\n",
      "[seed 10] epoch 27, train_loss 0.019261, val_loss 0.019659\n",
      "[seed 10] epoch 28, train_loss 0.019229, val_loss 0.019618\n",
      "[seed 10] epoch 29, train_loss 0.019205, val_loss 0.019622\n",
      "[seed 10] epoch 30, train_loss 0.019210, val_loss 0.019608\n",
      "Лучшая модель сохранена\n",
      "[seed 10] epoch 31, train_loss 0.019175, val_loss 0.019790\n",
      "[seed 10] epoch 32, train_loss 0.019168, val_loss 0.019676\n",
      "[seed 10] epoch 33, train_loss 0.019151, val_loss 0.019383\n",
      "Лучшая модель сохранена\n",
      "[seed 10] epoch 34, train_loss 0.019125, val_loss 0.019618\n",
      "[seed 10] epoch 35, train_loss 0.019120, val_loss 0.019424\n",
      "[seed 10] epoch 36, train_loss 0.019105, val_loss 0.019602\n",
      "[seed 10] epoch 37, train_loss 0.019083, val_loss 0.019412\n",
      "[seed 10] epoch 38, train_loss 0.019063, val_loss 0.019406\n",
      "Early stopping на эпохе 38 (patience=5)\n",
      "Время обучения модели seed 10: 7690.67 сек.\n",
      "Обучение модели с seed = 11\n",
      "[seed 11] epoch 0, train_loss 0.023354, val_loss 0.021926\n",
      "Лучшая модель сохранена\n",
      "[seed 11] epoch 1, train_loss 0.021831, val_loss 0.021306\n",
      "Лучшая модель сохранена\n",
      "[seed 11] epoch 2, train_loss 0.021351, val_loss 0.021105\n",
      "Лучшая модель сохранена\n",
      "[seed 11] epoch 3, train_loss 0.021045, val_loss 0.020620\n",
      "Лучшая модель сохранена\n",
      "[seed 11] epoch 4, train_loss 0.020839, val_loss 0.020661\n",
      "[seed 11] epoch 5, train_loss 0.020629, val_loss 0.020236\n",
      "Лучшая модель сохранена\n",
      "[seed 11] epoch 6, train_loss 0.020490, val_loss 0.020165\n",
      "Лучшая модель сохранена\n",
      "[seed 11] epoch 7, train_loss 0.020405, val_loss 0.019882\n",
      "Лучшая модель сохранена\n",
      "[seed 11] epoch 8, train_loss 0.020284, val_loss 0.019836\n",
      "Лучшая модель сохранена\n",
      "[seed 11] epoch 9, train_loss 0.020200, val_loss 0.020180\n",
      "[seed 11] epoch 10, train_loss 0.020110, val_loss 0.020008\n",
      "[seed 11] epoch 11, train_loss 0.020043, val_loss 0.019724\n",
      "Лучшая модель сохранена\n",
      "[seed 11] epoch 12, train_loss 0.019999, val_loss 0.019747\n",
      "[seed 11] epoch 13, train_loss 0.019943, val_loss 0.019674\n",
      "Лучшая модель сохранена\n",
      "[seed 11] epoch 14, train_loss 0.019895, val_loss 0.019594\n",
      "Лучшая модель сохранена\n",
      "[seed 11] epoch 15, train_loss 0.019840, val_loss 0.019482\n",
      "Лучшая модель сохранена\n",
      "[seed 11] epoch 16, train_loss 0.019808, val_loss 0.019448\n",
      "Лучшая модель сохранена\n",
      "[seed 11] epoch 17, train_loss 0.019769, val_loss 0.019517\n",
      "[seed 11] epoch 18, train_loss 0.019732, val_loss 0.019474\n",
      "[seed 11] epoch 19, train_loss 0.019707, val_loss 0.019584\n",
      "[seed 11] epoch 20, train_loss 0.019676, val_loss 0.019367\n",
      "Лучшая модель сохранена\n",
      "[seed 11] epoch 21, train_loss 0.019636, val_loss 0.019335\n",
      "Лучшая модель сохранена\n",
      "[seed 11] epoch 22, train_loss 0.019604, val_loss 0.019400\n",
      "[seed 11] epoch 23, train_loss 0.019583, val_loss 0.019283\n",
      "Лучшая модель сохранена\n",
      "[seed 11] epoch 24, train_loss 0.019555, val_loss 0.019300\n",
      "[seed 11] epoch 25, train_loss 0.019527, val_loss 0.019250\n",
      "Лучшая модель сохранена\n",
      "[seed 11] epoch 26, train_loss 0.019491, val_loss 0.019179\n",
      "Лучшая модель сохранена\n",
      "[seed 11] epoch 27, train_loss 0.019466, val_loss 0.019174\n",
      "Лучшая модель сохранена\n",
      "[seed 11] epoch 28, train_loss 0.019440, val_loss 0.019273\n",
      "[seed 11] epoch 29, train_loss 0.019410, val_loss 0.019248\n",
      "[seed 11] epoch 30, train_loss 0.019388, val_loss 0.019224\n",
      "[seed 11] epoch 31, train_loss 0.019368, val_loss 0.019313\n",
      "[seed 11] epoch 32, train_loss 0.019358, val_loss 0.019141\n",
      "Лучшая модель сохранена\n",
      "[seed 11] epoch 33, train_loss 0.019326, val_loss 0.019168\n",
      "[seed 11] epoch 34, train_loss 0.019311, val_loss 0.019145\n",
      "[seed 11] epoch 35, train_loss 0.019289, val_loss 0.019127\n",
      "Лучшая модель сохранена\n",
      "[seed 11] epoch 36, train_loss 0.019278, val_loss 0.019269\n",
      "[seed 11] epoch 37, train_loss 0.019253, val_loss 0.019125\n",
      "Лучшая модель сохранена\n",
      "[seed 11] epoch 38, train_loss 0.019253, val_loss 0.018974\n",
      "Лучшая модель сохранена\n",
      "[seed 11] epoch 39, train_loss 0.019232, val_loss 0.019023\n",
      "[seed 11] epoch 40, train_loss 0.019206, val_loss 0.018916\n",
      "Лучшая модель сохранена\n",
      "[seed 11] epoch 41, train_loss 0.019198, val_loss 0.018881\n",
      "Лучшая модель сохранена\n",
      "[seed 11] epoch 42, train_loss 0.019192, val_loss 0.019042\n",
      "[seed 11] epoch 43, train_loss 0.019188, val_loss 0.018944\n",
      "[seed 11] epoch 44, train_loss 0.019170, val_loss 0.018991\n",
      "[seed 11] epoch 45, train_loss 0.019156, val_loss 0.018835\n",
      "Лучшая модель сохранена\n",
      "[seed 11] epoch 46, train_loss 0.019148, val_loss 0.019018\n",
      "[seed 11] epoch 47, train_loss 0.019138, val_loss 0.018866\n",
      "[seed 11] epoch 48, train_loss 0.019116, val_loss 0.018946\n",
      "[seed 11] epoch 49, train_loss 0.019114, val_loss 0.018856\n",
      "Время обучения модели seed 11: 9598.34 сек.\n",
      "Обучение модели с seed = 12\n",
      "[seed 12] epoch 0, train_loss 0.023641, val_loss 0.022078\n",
      "Лучшая модель сохранена\n",
      "[seed 12] epoch 1, train_loss 0.021919, val_loss 0.021188\n",
      "Лучшая модель сохранена\n",
      "[seed 12] epoch 2, train_loss 0.021266, val_loss 0.021228\n",
      "[seed 12] epoch 3, train_loss 0.020972, val_loss 0.020756\n",
      "Лучшая модель сохранена\n",
      "[seed 12] epoch 4, train_loss 0.020742, val_loss 0.020448\n",
      "Лучшая модель сохранена\n",
      "[seed 12] epoch 5, train_loss 0.020557, val_loss 0.020302\n",
      "Лучшая модель сохранена\n",
      "[seed 12] epoch 6, train_loss 0.020393, val_loss 0.020341\n",
      "[seed 12] epoch 7, train_loss 0.020256, val_loss 0.020102\n",
      "Лучшая модель сохранена\n",
      "[seed 12] epoch 8, train_loss 0.020163, val_loss 0.020164\n",
      "[seed 12] epoch 9, train_loss 0.020095, val_loss 0.020379\n",
      "[seed 12] epoch 10, train_loss 0.020018, val_loss 0.019909\n",
      "Лучшая модель сохранена\n",
      "[seed 12] epoch 11, train_loss 0.019963, val_loss 0.020251\n",
      "[seed 12] epoch 12, train_loss 0.019915, val_loss 0.019766\n",
      "Лучшая модель сохранена\n",
      "[seed 12] epoch 13, train_loss 0.019864, val_loss 0.020020\n",
      "[seed 12] epoch 14, train_loss 0.019807, val_loss 0.019955\n",
      "[seed 12] epoch 15, train_loss 0.019763, val_loss 0.019824\n",
      "[seed 12] epoch 16, train_loss 0.019732, val_loss 0.019810\n",
      "[seed 12] epoch 17, train_loss 0.019691, val_loss 0.019682\n",
      "Лучшая модель сохранена\n",
      "[seed 12] epoch 18, train_loss 0.019653, val_loss 0.019861\n",
      "[seed 12] epoch 19, train_loss 0.019619, val_loss 0.019577\n",
      "Лучшая модель сохранена\n",
      "[seed 12] epoch 20, train_loss 0.019588, val_loss 0.019529\n",
      "Лучшая модель сохранена\n",
      "[seed 12] epoch 21, train_loss 0.019553, val_loss 0.019652\n",
      "[seed 12] epoch 22, train_loss 0.019544, val_loss 0.019488\n",
      "Лучшая модель сохранена\n",
      "[seed 12] epoch 23, train_loss 0.019504, val_loss 0.019489\n",
      "[seed 12] epoch 24, train_loss 0.019477, val_loss 0.019604\n",
      "[seed 12] epoch 25, train_loss 0.019462, val_loss 0.019403\n",
      "Лучшая модель сохранена\n",
      "[seed 12] epoch 26, train_loss 0.019440, val_loss 0.019363\n",
      "Лучшая модель сохранена\n",
      "[seed 12] epoch 27, train_loss 0.019426, val_loss 0.019512\n",
      "[seed 12] epoch 28, train_loss 0.019395, val_loss 0.019488\n",
      "[seed 12] epoch 29, train_loss 0.019379, val_loss 0.019835\n",
      "[seed 12] epoch 30, train_loss 0.019366, val_loss 0.019572\n",
      "[seed 12] epoch 31, train_loss 0.019344, val_loss 0.019546\n",
      "Early stopping на эпохе 31 (patience=5)\n",
      "Время обучения модели seed 12: 6121.42 сек.\n"
     ]
    }
   ],
   "source": [
    "for seed in seeds:\n",
    "    print(f\"Обучение модели с seed = {seed}\")\n",
    "\n",
    "    torch.manual_seed(seed)\n",
    "    generator = torch.Generator().manual_seed(seed)\n",
    "    train_data, val_data = random_split(data, [train_size, val_size], generator=generator)\n",
    "\n",
    "    train_dataloader = DataLoader(train_data, batch_size=batch_size, shuffle=True)\n",
    "    val_dataloader = DataLoader(val_data, batch_size=batch_size, shuffle=False)\n",
    "\n",
    "    model = UnetWithFeatures().to(device)\n",
    "    optimizer = torch.optim.Adam(model.parameters(), lr=learning_rate)\n",
    "    criterion = torch.nn.L1Loss()\n",
    "\n",
    "    train_loss = []\n",
    "    val_loss = []\n",
    "    best_val = float('inf')\n",
    "    early_stopping_counter = 0\n",
    "    patience = 5\n",
    "\n",
    "    start_time = time.time()\n",
    "\n",
    "    for epoch in range(epochs):\n",
    "        batch_train_loss = []\n",
    "        batch_val_loss = []\n",
    "\n",
    "        model.train()\n",
    "        for inputs, output, f in train_dataloader:\n",
    "            inputs = inputs.float().to(device)\n",
    "            output = output.float().to(device)\n",
    "            f = f.float().to(device)\n",
    "\n",
    "            predicted_output = model(inputs, f)\n",
    "            loss = criterion(predicted_output, output)\n",
    "\n",
    "            optimizer.zero_grad()\n",
    "            loss.backward()\n",
    "            optimizer.step()\n",
    "\n",
    "            batch_train_loss.append(loss.item())\n",
    "\n",
    "        model.eval()\n",
    "        with torch.no_grad():\n",
    "            for inputs, output, f in val_dataloader:\n",
    "                inputs = inputs.float().to(device)\n",
    "                output = output.float().to(device)\n",
    "                f = f.float().to(device)\n",
    "\n",
    "                predicted_output = model(inputs, f)\n",
    "                loss = criterion(predicted_output, output)\n",
    "                batch_val_loss.append(loss.item())\n",
    "\n",
    "        train_epoch = np.mean(batch_train_loss)\n",
    "        val_epoch = np.mean(batch_val_loss)\n",
    "        train_loss.append(train_epoch)\n",
    "        val_loss.append(val_epoch)\n",
    "\n",
    "        print(f'[seed {seed}] epoch {epoch}, train_loss {train_epoch:.6f}, val_loss {val_epoch:.6f}')\n",
    "\n",
    "        if val_epoch < best_val:\n",
    "            best_val = val_epoch\n",
    "            early_stopping_counter = 0\n",
    "            torch.save(model.state_dict(), f\"best_model_seed{seed}.pth\")\n",
    "            torch.save(model.state_dict(), f\"/content/drive/MyDrive/Task2_v2/best_model_seed{seed}.pth\")\n",
    "            print(\"Лучшая модель сохранена\")\n",
    "        else:\n",
    "            early_stopping_counter += 1\n",
    "            if early_stopping_counter >= patience:\n",
    "                print(f\"Early stopping на эпохе {epoch} (patience={patience})\")\n",
    "                break\n",
    "\n",
    "    end_time = time.time()\n",
    "    print(f\"Время обучения модели seed {seed}: {end_time - start_time:.2f} сек.\")\n",
    "    models.append(model)"
   ]
  },
  {
   "cell_type": "code",
   "execution_count": 10,
   "metadata": {
    "colab": {
     "base_uri": "https://localhost:8080/"
    },
    "executionInfo": {
     "elapsed": 52443,
     "status": "ok",
     "timestamp": 1744736363512,
     "user": {
      "displayName": "Полина Новоселя",
      "userId": "12067717600603140175"
     },
     "user_tz": -420
    },
    "id": "qH3VdgsXgMLc",
    "outputId": "f4a4c642-4aa7-42b0-94e0-8d6787aaf361"
   },
   "outputs": [
    {
     "name": "stdout",
     "output_type": "stream",
     "text": [
      "Ансамблевое предсказание на validation\n",
      "Среднее MAE ансамбля по всей валидации: 0.018749\n"
     ]
    }
   ],
   "source": [
    "# Ансамблевое предсказание на валидации после обучения всех моделей\n",
    "print(\"Ансамблевое предсказание на validation\")\n",
    "maes = []\n",
    "all_targets = []\n",
    "all_preds = []\n",
    "\n",
    "with torch.no_grad():\n",
    "    for x_batch, y_batch, f_batch in DataLoader(val_data, batch_size=batch_size):\n",
    "        x_batch = x_batch.float().to(device)\n",
    "        y_batch = y_batch.float().to(device)\n",
    "        f_batch = f_batch.float().to(device)\n",
    "\n",
    "        ensemble_outputs = []\n",
    "        for seed in seeds:\n",
    "            m = UnetWithFeatures().to(device)\n",
    "            m.load_state_dict(torch.load(f\"best_model_seed{seed}.pth\", map_location=device))\n",
    "            m.eval()\n",
    "            pred = m(x_batch, f_batch)\n",
    "            ensemble_outputs.append(pred)\n",
    "\n",
    "        ensemble_output = torch.stack(ensemble_outputs, dim=0).mean(dim=0)\n",
    "        mae = torch.mean(torch.abs(ensemble_output - y_batch)).item()\n",
    "        maes.append(mae)\n",
    "        all_targets.append(y_batch.cpu().numpy())\n",
    "        all_preds.append(ensemble_output.cpu().numpy())\n",
    "\n",
    "final_mae = np.mean(maes)\n",
    "print(f\"Среднее MAE ансамбля по всей валидации: {final_mae:.6f}\")"
   ]
  },
  {
   "cell_type": "code",
   "execution_count": 11,
   "metadata": {
    "colab": {
     "base_uri": "https://localhost:8080/",
     "height": 0
    },
    "executionInfo": {
     "elapsed": 862,
     "status": "ok",
     "timestamp": 1744736364371,
     "user": {
      "displayName": "Полина Новоселя",
      "userId": "12067717600603140175"
     },
     "user_tz": -420
    },
    "id": "rkrzrLMQhX_N",
    "outputId": "d680b78b-dff0-4617-ff9a-06dcfd34aafd"
   },
   "outputs": [
    {
     "data": {
      "image/png": "[encoded data removed]",
      "text/plain": [
       "<Figure size 1400x500 with 1 Axes>"
      ]
     },
     "metadata": {},
     "output_type": "display_data"
    }
   ],
   "source": [
    "target_sample = all_targets[0][7][0] #номер батча, номер сэмпла, сигнал\n",
    "pred_sample = all_preds[0][7][0]\n",
    "\n",
    "plt.figure(figsize=(14, 5))\n",
    "plt.plot(target_sample, label=\"Target\")\n",
    "plt.plot(pred_sample, label=\"Ensemble Prediction\", linestyle=\"--\")\n",
    "plt.title(\"Ансамблевое предсказание vs Target (один пример)\")\n",
    "plt.xlabel(\"Время (отсчёты)\")\n",
    "plt.ylabel(\"Амплитуда\")\n",
    "plt.legend()\n",
    "plt.grid(True)\n",
    "plt.tight_layout()\n",
    "plt.show()"
   ]
  },
  {
   "cell_type": "code",
   "execution_count": 12,
   "metadata": {
    "colab": {
     "base_uri": "https://localhost:8080/",
     "height": 0
    },
    "executionInfo": {
     "elapsed": 2,
     "status": "ok",
     "timestamp": 1744736364374,
     "user": {
      "displayName": "Полина Новоселя",
      "userId": "12067717600603140175"
     },
     "user_tz": -420
    },
    "id": "z41yadZ5289O",
    "outputId": "e1ebd2cf-3de4-40f3-ffb0-1473a9ddfc5e"
   },
   "outputs": [
    {
     "data": {
      "application/javascript": "google.colab.kernel.invokeFunction(\"save\")",
      "text/plain": [
       "<IPython.core.display.Javascript object>"
      ]
     },
     "metadata": {},
     "output_type": "display_data"
    }
   ],
   "source": [
    "IPython.display.display(IPython.display.Javascript('google.colab.kernel.invokeFunction(\"save\")'))"
   ]
  },
  {
   "cell_type": "code",
   "execution_count": 13,
   "metadata": {
    "executionInfo": {
     "elapsed": 1,
     "status": "ok",
     "timestamp": 1744736364375,
     "user": {
      "displayName": "Полина Новоселя",
      "userId": "12067717600603140175"
     },
     "user_tz": -420
    },
    "id": "wrG2-7baQUtU"
   },
   "outputs": [],
   "source": [
    "# # Предсказание на 3-й точке удара (number_sources_points = 2)\n",
    "\n",
    "\n",
    "# predict_dataset = MicroseismDataset(\n",
    "#     input_batch=path_to_input_batch,\n",
    "#     output_batch=path_to_output_batch,\n",
    "#     selected_sensors_names=sensors_names[:selected_sensors_num],\n",
    "#     number_sources_points=[2],\n",
    "#     sensors_names=sensors_names,\n",
    "#     channels=channels,\n",
    "#     sensors_path=path_sensors_file,\n",
    "#     points_path=path_sources_file\n",
    "# )\n",
    "# predict_loader = DataLoader(predict_dataset, batch_size=batch_size, shuffle=False)"
   ]
  },
  {
   "cell_type": "code",
   "execution_count": 14,
   "metadata": {
    "executionInfo": {
     "elapsed": 4,
     "status": "ok",
     "timestamp": 1744736364380,
     "user": {
      "displayName": "Полина Новоселя",
      "userId": "12067717600603140175"
     },
     "user_tz": -420
    },
    "id": "ph3Gvc-gky7h"
   },
   "outputs": [],
   "source": [
    "# maes = []\n",
    "# all_preds = []\n",
    "# all_targets = []\n",
    "\n",
    "# with torch.no_grad():\n",
    "#     for x, y, f in predict_loader:\n",
    "#         x = x.float().to(device)\n",
    "#         y = y.float().to(device)\n",
    "#         f = f.float().to(device)\n",
    "\n",
    "#         ensemble_outputs = []\n",
    "#         for seed in seeds:\n",
    "#             m = UnetWithFeatures().to(device)\n",
    "#             m.load_state_dict(torch.load(f\"best_model_seed{seed}.pth\", map_location=device))\n",
    "#             m.eval()\n",
    "#             pred = m(x, f)\n",
    "#             ensemble_outputs.append(pred)\n",
    "\n",
    "#         ensemble_output = torch.stack(ensemble_outputs, dim=0).mean(dim=0)\n",
    "#         mae = torch.mean(torch.abs(ensemble_output - y)).item()\n",
    "#         maes.append(mae)\n",
    "\n",
    "#         all_targets.append(y.cpu().numpy())\n",
    "#         all_preds.append(ensemble_output.cpu().numpy())\n",
    "\n",
    "# print(\"MAE ансамбля на 3-й точке удара:\", np.mean(maes))"
   ]
  }
 ],
 "metadata": {
  "colab": {
   "authorship_tag": "ABX9TyPVudsBYX+TPSxe9Nj43Eox",
   "provenance": []
  },
  "kernelspec": {
   "display_name": "Python 3",
   "name": "python3"
  },
  "language_info": {
   "name": "python"
  }
 },
 "nbformat": 4,
 "nbformat_minor": 0
}
